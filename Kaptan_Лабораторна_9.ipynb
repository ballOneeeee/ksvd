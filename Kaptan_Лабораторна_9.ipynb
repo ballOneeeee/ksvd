{
  "cells": [
    {
      "cell_type": "markdown",
      "metadata": {
        "id": "view-in-github",
        "colab_type": "text"
      },
      "source": [
        "<a href=\"https://colab.research.google.com/github/ballOneeeee/ksvd/blob/main/Kaptan_%D0%9B%D0%B0%D0%B1%D0%BE%D1%80%D0%B0%D1%82%D0%BE%D1%80%D0%BD%D0%B0_9.ipynb\" target=\"_parent\"><img src=\"https://colab.research.google.com/assets/colab-badge.svg\" alt=\"Open In Colab\"/></a>"
      ]
    },
    {
      "cell_type": "markdown",
      "source": [
        "# Лабораторна робота 9. PySpark\n",
        "\n",
        "[Посилання на GitHub]()\n"
      ],
      "metadata": {
        "id": "pyRDJUyjmMOQ"
      }
    },
    {
      "cell_type": "code",
      "execution_count": 1,
      "metadata": {
        "colab": {
          "base_uri": "https://localhost:8080/"
        },
        "id": "MWdWarYwFwh9",
        "outputId": "04265050-9285-4c6d-836e-dd56b1b8d24c"
      },
      "outputs": [
        {
          "output_type": "stream",
          "name": "stdout",
          "text": [
            "Requirement already satisfied: pyspark==3.5.1 in /usr/local/lib/python3.11/dist-packages (3.5.1)\n",
            "Requirement already satisfied: py4j==0.10.9.7 in /usr/local/lib/python3.11/dist-packages (from pyspark==3.5.1) (0.10.9.7)\n"
          ]
        }
      ],
      "source": [
        "!pip install pyspark==3.5.1"
      ]
    },
    {
      "cell_type": "markdown",
      "source": [
        "1) Завантжатити датасет https://www.kaggle.com/datasets/soheiltehranipour/cruise-used-for-pyspark\n",
        "\n",
        "2) Виконати основні функції для спарк, побудувати 3 графіки"
      ],
      "metadata": {
        "id": "R0vr2TATE9sf"
      }
    },
    {
      "cell_type": "code",
      "execution_count": 2,
      "metadata": {
        "id": "Cv6THbRdCzvr"
      },
      "outputs": [],
      "source": [
        "from pyspark.sql import SparkSession\n",
        "\n",
        "spark = SparkSession.builder\\\n",
        "    .master('local[*]')\\\n",
        "    .appName('Colab_PySpark')\\\n",
        "    .getOrCreate()"
      ]
    },
    {
      "cell_type": "code",
      "source": [
        "from google.colab import files\n",
        "uploaded = files.upload()"
      ],
      "metadata": {
        "colab": {
          "base_uri": "https://localhost:8080/",
          "height": 73
        },
        "id": "j7h9_q-w_McV",
        "outputId": "37a32482-a270-4970-c3cf-0d67a35257fc"
      },
      "execution_count": 3,
      "outputs": [
        {
          "output_type": "display_data",
          "data": {
            "text/plain": [
              "<IPython.core.display.HTML object>"
            ],
            "text/html": [
              "\n",
              "     <input type=\"file\" id=\"files-5ad7f925-44a5-4e13-b77d-ceaa36b4f0e0\" name=\"files[]\" multiple disabled\n",
              "        style=\"border:none\" />\n",
              "     <output id=\"result-5ad7f925-44a5-4e13-b77d-ceaa36b4f0e0\">\n",
              "      Upload widget is only available when the cell has been executed in the\n",
              "      current browser session. Please rerun this cell to enable.\n",
              "      </output>\n",
              "      <script>// Copyright 2017 Google LLC\n",
              "//\n",
              "// Licensed under the Apache License, Version 2.0 (the \"License\");\n",
              "// you may not use this file except in compliance with the License.\n",
              "// You may obtain a copy of the License at\n",
              "//\n",
              "//      http://www.apache.org/licenses/LICENSE-2.0\n",
              "//\n",
              "// Unless required by applicable law or agreed to in writing, software\n",
              "// distributed under the License is distributed on an \"AS IS\" BASIS,\n",
              "// WITHOUT WARRANTIES OR CONDITIONS OF ANY KIND, either express or implied.\n",
              "// See the License for the specific language governing permissions and\n",
              "// limitations under the License.\n",
              "\n",
              "/**\n",
              " * @fileoverview Helpers for google.colab Python module.\n",
              " */\n",
              "(function(scope) {\n",
              "function span(text, styleAttributes = {}) {\n",
              "  const element = document.createElement('span');\n",
              "  element.textContent = text;\n",
              "  for (const key of Object.keys(styleAttributes)) {\n",
              "    element.style[key] = styleAttributes[key];\n",
              "  }\n",
              "  return element;\n",
              "}\n",
              "\n",
              "// Max number of bytes which will be uploaded at a time.\n",
              "const MAX_PAYLOAD_SIZE = 100 * 1024;\n",
              "\n",
              "function _uploadFiles(inputId, outputId) {\n",
              "  const steps = uploadFilesStep(inputId, outputId);\n",
              "  const outputElement = document.getElementById(outputId);\n",
              "  // Cache steps on the outputElement to make it available for the next call\n",
              "  // to uploadFilesContinue from Python.\n",
              "  outputElement.steps = steps;\n",
              "\n",
              "  return _uploadFilesContinue(outputId);\n",
              "}\n",
              "\n",
              "// This is roughly an async generator (not supported in the browser yet),\n",
              "// where there are multiple asynchronous steps and the Python side is going\n",
              "// to poll for completion of each step.\n",
              "// This uses a Promise to block the python side on completion of each step,\n",
              "// then passes the result of the previous step as the input to the next step.\n",
              "function _uploadFilesContinue(outputId) {\n",
              "  const outputElement = document.getElementById(outputId);\n",
              "  const steps = outputElement.steps;\n",
              "\n",
              "  const next = steps.next(outputElement.lastPromiseValue);\n",
              "  return Promise.resolve(next.value.promise).then((value) => {\n",
              "    // Cache the last promise value to make it available to the next\n",
              "    // step of the generator.\n",
              "    outputElement.lastPromiseValue = value;\n",
              "    return next.value.response;\n",
              "  });\n",
              "}\n",
              "\n",
              "/**\n",
              " * Generator function which is called between each async step of the upload\n",
              " * process.\n",
              " * @param {string} inputId Element ID of the input file picker element.\n",
              " * @param {string} outputId Element ID of the output display.\n",
              " * @return {!Iterable<!Object>} Iterable of next steps.\n",
              " */\n",
              "function* uploadFilesStep(inputId, outputId) {\n",
              "  const inputElement = document.getElementById(inputId);\n",
              "  inputElement.disabled = false;\n",
              "\n",
              "  const outputElement = document.getElementById(outputId);\n",
              "  outputElement.innerHTML = '';\n",
              "\n",
              "  const pickedPromise = new Promise((resolve) => {\n",
              "    inputElement.addEventListener('change', (e) => {\n",
              "      resolve(e.target.files);\n",
              "    });\n",
              "  });\n",
              "\n",
              "  const cancel = document.createElement('button');\n",
              "  inputElement.parentElement.appendChild(cancel);\n",
              "  cancel.textContent = 'Cancel upload';\n",
              "  const cancelPromise = new Promise((resolve) => {\n",
              "    cancel.onclick = () => {\n",
              "      resolve(null);\n",
              "    };\n",
              "  });\n",
              "\n",
              "  // Wait for the user to pick the files.\n",
              "  const files = yield {\n",
              "    promise: Promise.race([pickedPromise, cancelPromise]),\n",
              "    response: {\n",
              "      action: 'starting',\n",
              "    }\n",
              "  };\n",
              "\n",
              "  cancel.remove();\n",
              "\n",
              "  // Disable the input element since further picks are not allowed.\n",
              "  inputElement.disabled = true;\n",
              "\n",
              "  if (!files) {\n",
              "    return {\n",
              "      response: {\n",
              "        action: 'complete',\n",
              "      }\n",
              "    };\n",
              "  }\n",
              "\n",
              "  for (const file of files) {\n",
              "    const li = document.createElement('li');\n",
              "    li.append(span(file.name, {fontWeight: 'bold'}));\n",
              "    li.append(span(\n",
              "        `(${file.type || 'n/a'}) - ${file.size} bytes, ` +\n",
              "        `last modified: ${\n",
              "            file.lastModifiedDate ? file.lastModifiedDate.toLocaleDateString() :\n",
              "                                    'n/a'} - `));\n",
              "    const percent = span('0% done');\n",
              "    li.appendChild(percent);\n",
              "\n",
              "    outputElement.appendChild(li);\n",
              "\n",
              "    const fileDataPromise = new Promise((resolve) => {\n",
              "      const reader = new FileReader();\n",
              "      reader.onload = (e) => {\n",
              "        resolve(e.target.result);\n",
              "      };\n",
              "      reader.readAsArrayBuffer(file);\n",
              "    });\n",
              "    // Wait for the data to be ready.\n",
              "    let fileData = yield {\n",
              "      promise: fileDataPromise,\n",
              "      response: {\n",
              "        action: 'continue',\n",
              "      }\n",
              "    };\n",
              "\n",
              "    // Use a chunked sending to avoid message size limits. See b/62115660.\n",
              "    let position = 0;\n",
              "    do {\n",
              "      const length = Math.min(fileData.byteLength - position, MAX_PAYLOAD_SIZE);\n",
              "      const chunk = new Uint8Array(fileData, position, length);\n",
              "      position += length;\n",
              "\n",
              "      const base64 = btoa(String.fromCharCode.apply(null, chunk));\n",
              "      yield {\n",
              "        response: {\n",
              "          action: 'append',\n",
              "          file: file.name,\n",
              "          data: base64,\n",
              "        },\n",
              "      };\n",
              "\n",
              "      let percentDone = fileData.byteLength === 0 ?\n",
              "          100 :\n",
              "          Math.round((position / fileData.byteLength) * 100);\n",
              "      percent.textContent = `${percentDone}% done`;\n",
              "\n",
              "    } while (position < fileData.byteLength);\n",
              "  }\n",
              "\n",
              "  // All done.\n",
              "  yield {\n",
              "    response: {\n",
              "      action: 'complete',\n",
              "    }\n",
              "  };\n",
              "}\n",
              "\n",
              "scope.google = scope.google || {};\n",
              "scope.google.colab = scope.google.colab || {};\n",
              "scope.google.colab._files = {\n",
              "  _uploadFiles,\n",
              "  _uploadFilesContinue,\n",
              "};\n",
              "})(self);\n",
              "</script> "
            ]
          },
          "metadata": {}
        },
        {
          "output_type": "stream",
          "name": "stdout",
          "text": [
            "Saving cruise_dataset.csv to cruise_dataset.csv\n"
          ]
        }
      ]
    },
    {
      "cell_type": "code",
      "execution_count": 4,
      "metadata": {
        "colab": {
          "base_uri": "https://localhost:8080/"
        },
        "id": "bun_QlqjGH9S",
        "outputId": "b8c8cec4-e946-4536-83cb-1ad9046288a1"
      },
      "outputs": [
        {
          "output_type": "stream",
          "name": "stdout",
          "text": [
            "root\n",
            " |-- Ship_name: string (nullable = true)\n",
            " |-- Cruise_line: string (nullable = true)\n",
            " |-- Age: integer (nullable = true)\n",
            " |-- Tonnage: double (nullable = true)\n",
            " |-- passengers: double (nullable = true)\n",
            " |-- length: double (nullable = true)\n",
            " |-- cabins: double (nullable = true)\n",
            " |-- passenger_density: double (nullable = true)\n",
            " |-- crew: double (nullable = true)\n",
            "\n"
          ]
        }
      ],
      "source": [
        "data = spark.read.csv(\n",
        "    'cruise_dataset.csv',\n",
        "    sep=',',\n",
        "    header=True,\n",
        "    inferSchema=True\n",
        ")\n",
        "\n",
        "data.printSchema()"
      ]
    },
    {
      "cell_type": "code",
      "source": [
        "data.dtypes"
      ],
      "metadata": {
        "colab": {
          "base_uri": "https://localhost:8080/"
        },
        "id": "3hJkkffoD-II",
        "outputId": "565a05e9-147a-493d-f2aa-bc1a7d040b09"
      },
      "execution_count": 5,
      "outputs": [
        {
          "output_type": "execute_result",
          "data": {
            "text/plain": [
              "[('Ship_name', 'string'),\n",
              " ('Cruise_line', 'string'),\n",
              " ('Age', 'int'),\n",
              " ('Tonnage', 'double'),\n",
              " ('passengers', 'double'),\n",
              " ('length', 'double'),\n",
              " ('cabins', 'double'),\n",
              " ('passenger_density', 'double'),\n",
              " ('crew', 'double')]"
            ]
          },
          "metadata": {},
          "execution_count": 5
        }
      ]
    },
    {
      "cell_type": "code",
      "source": [
        "data.show()"
      ],
      "metadata": {
        "colab": {
          "base_uri": "https://localhost:8080/"
        },
        "id": "2-gqyJ09D_Cw",
        "outputId": "4c54a0f1-d616-4f47-bf79-cf602d92c473"
      },
      "execution_count": 6,
      "outputs": [
        {
          "output_type": "stream",
          "name": "stdout",
          "text": [
            "+-----------+-----------+---+------------------+----------+------+------+-----------------+----+\n",
            "|  Ship_name|Cruise_line|Age|           Tonnage|passengers|length|cabins|passenger_density|crew|\n",
            "+-----------+-----------+---+------------------+----------+------+------+-----------------+----+\n",
            "|    Journey|    Azamara|  6|30.276999999999997|      6.94|  5.94|  3.55|            42.64|3.55|\n",
            "|      Quest|    Azamara|  6|30.276999999999997|      6.94|  5.94|  3.55|            42.64|3.55|\n",
            "|Celebration|   Carnival| 26|            47.262|     14.86|  7.22|  7.43|             31.8| 6.7|\n",
            "|   Conquest|   Carnival| 11|             110.0|     29.74|  9.53| 14.88|            36.99|19.1|\n",
            "|    Destiny|   Carnival| 17|           101.353|     26.42|  8.92| 13.21|            38.36|10.0|\n",
            "|    Ecstasy|   Carnival| 22|            70.367|     20.52|  8.55|  10.2|            34.29| 9.2|\n",
            "|    Elation|   Carnival| 15|            70.367|     20.52|  8.55|  10.2|            34.29| 9.2|\n",
            "|    Fantasy|   Carnival| 23|            70.367|     20.56|  8.55| 10.22|            34.23| 9.2|\n",
            "|Fascination|   Carnival| 19|            70.367|     20.52|  8.55|  10.2|            34.29| 9.2|\n",
            "|    Freedom|   Carnival|  6|110.23899999999999|      37.0|  9.51| 14.87|            29.79|11.5|\n",
            "|      Glory|   Carnival| 10|             110.0|     29.74|  9.51| 14.87|            36.99|11.6|\n",
            "|    Holiday|   Carnival| 28|            46.052|     14.52|  7.27|  7.26|            31.72| 6.6|\n",
            "|Imagination|   Carnival| 18|            70.367|     20.52|  8.55|  10.2|            34.29| 9.2|\n",
            "|Inspiration|   Carnival| 17|            70.367|     20.52|  8.55|  10.2|            34.29| 9.2|\n",
            "|     Legend|   Carnival| 11|              86.0|     21.24|  9.63| 10.62|            40.49| 9.3|\n",
            "|   Liberty*|   Carnival|  8|             110.0|     29.74|  9.51| 14.87|            36.99|11.6|\n",
            "|    Miracle|   Carnival|  9|              88.5|     21.24|  9.63| 10.62|            41.67|10.3|\n",
            "|   Paradise|   Carnival| 15|            70.367|     20.52|  8.55|  10.2|            34.29| 9.2|\n",
            "|      Pride|   Carnival| 12|              88.5|     21.24|  9.63| 11.62|            41.67| 9.3|\n",
            "|  Sensation|   Carnival| 20|            70.367|     20.52|  8.55|  10.2|            34.29| 9.2|\n",
            "+-----------+-----------+---+------------------+----------+------+------+-----------------+----+\n",
            "only showing top 20 rows\n",
            "\n"
          ]
        }
      ]
    },
    {
      "cell_type": "code",
      "execution_count": 7,
      "metadata": {
        "colab": {
          "base_uri": "https://localhost:8080/"
        },
        "id": "a_n50s6eGIEg",
        "outputId": "c6823255-c477-41a0-d2c6-a09c858a0904"
      },
      "outputs": [
        {
          "output_type": "execute_result",
          "data": {
            "text/plain": [
              "['Ship_name',\n",
              " 'Cruise_line',\n",
              " 'Age',\n",
              " 'Tonnage',\n",
              " 'passengers',\n",
              " 'length',\n",
              " 'cabins',\n",
              " 'passenger_density',\n",
              " 'crew']"
            ]
          },
          "metadata": {},
          "execution_count": 7
        }
      ],
      "source": [
        "data.columns"
      ]
    },
    {
      "cell_type": "code",
      "source": [
        "data.count()"
      ],
      "metadata": {
        "colab": {
          "base_uri": "https://localhost:8080/"
        },
        "id": "uRQO1P3FKdCr",
        "outputId": "1546f5a6-99b7-4b82-89f9-4f2f9489ba02"
      },
      "execution_count": 8,
      "outputs": [
        {
          "output_type": "execute_result",
          "data": {
            "text/plain": [
              "158"
            ]
          },
          "metadata": {},
          "execution_count": 8
        }
      ]
    },
    {
      "cell_type": "code",
      "execution_count": 9,
      "metadata": {
        "colab": {
          "base_uri": "https://localhost:8080/"
        },
        "id": "MguG5jDkGIIs",
        "outputId": "2c6a75ed-b68b-4b86-c19c-ae6aa1cf5d38"
      },
      "outputs": [
        {
          "output_type": "stream",
          "name": "stdout",
          "text": [
            "+-----------+-----------+---+------------------+----------+------+------+-----------------+----+------------------+\n",
            "|  Ship_name|Cruise_line|Age|           Tonnage|passengers|length|cabins|passenger_density|crew|average_cabin_size|\n",
            "+-----------+-----------+---+------------------+----------+------+------+-----------------+----+------------------+\n",
            "|    Journey|    Azamara|  6|30.276999999999997|      6.94|  5.94|  3.55|            42.64|3.55|1.6732394366197185|\n",
            "|      Quest|    Azamara|  6|30.276999999999997|      6.94|  5.94|  3.55|            42.64|3.55|1.6732394366197185|\n",
            "|Celebration|   Carnival| 26|            47.262|     14.86|  7.22|  7.43|             31.8| 6.7| 0.971736204576043|\n",
            "|   Conquest|   Carnival| 11|             110.0|     29.74|  9.53| 14.88|            36.99|19.1|0.6404569892473118|\n",
            "|    Destiny|   Carnival| 17|           101.353|     26.42|  8.92| 13.21|            38.36|10.0|0.6752460257380771|\n",
            "+-----------+-----------+---+------------------+----------+------+------+-----------------+----+------------------+\n",
            "only showing top 5 rows\n",
            "\n"
          ]
        }
      ],
      "source": [
        "from pyspark.sql.functions import col\n",
        "\n",
        "data = data.withColumn('average_cabin_size', col('length') / col('cabins'))\n",
        "\n",
        "data.show(5)"
      ]
    },
    {
      "cell_type": "code",
      "source": [
        "data = data.withColumnRenamed('crew', 'Crew')\n",
        "\n",
        "data.columns"
      ],
      "metadata": {
        "colab": {
          "base_uri": "https://localhost:8080/"
        },
        "id": "d7aGooO8M179",
        "outputId": "d1f62235-e10b-4110-f271-3708cae40e22"
      },
      "execution_count": 10,
      "outputs": [
        {
          "output_type": "execute_result",
          "data": {
            "text/plain": [
              "['Ship_name',\n",
              " 'Cruise_line',\n",
              " 'Age',\n",
              " 'Tonnage',\n",
              " 'passengers',\n",
              " 'length',\n",
              " 'cabins',\n",
              " 'passenger_density',\n",
              " 'Crew',\n",
              " 'average_cabin_size']"
            ]
          },
          "metadata": {},
          "execution_count": 10
        }
      ]
    },
    {
      "cell_type": "code",
      "source": [
        "# data = data.drop('average_cabin_size')"
      ],
      "metadata": {
        "id": "BwxPzVqfM15L"
      },
      "execution_count": 11,
      "outputs": []
    },
    {
      "cell_type": "code",
      "source": [
        "from pyspark.sql.functions import mean\n",
        "\n",
        "# data = data.na.drop()\n",
        "\n",
        "data = data.na.fill({'Tonnage': data.select(mean(col('Tonnage'))).collect()[0][0]})\n",
        "\n",
        "data.show(5)"
      ],
      "metadata": {
        "colab": {
          "base_uri": "https://localhost:8080/"
        },
        "id": "_1OwI6lgHZDz",
        "outputId": "4510635a-5bdd-4424-e476-25906c400b7f"
      },
      "execution_count": 12,
      "outputs": [
        {
          "output_type": "stream",
          "name": "stdout",
          "text": [
            "+-----------+-----------+---+------------------+----------+------+------+-----------------+----+------------------+\n",
            "|  Ship_name|Cruise_line|Age|           Tonnage|passengers|length|cabins|passenger_density|Crew|average_cabin_size|\n",
            "+-----------+-----------+---+------------------+----------+------+------+-----------------+----+------------------+\n",
            "|    Journey|    Azamara|  6|30.276999999999997|      6.94|  5.94|  3.55|            42.64|3.55|1.6732394366197185|\n",
            "|      Quest|    Azamara|  6|30.276999999999997|      6.94|  5.94|  3.55|            42.64|3.55|1.6732394366197185|\n",
            "|Celebration|   Carnival| 26|            47.262|     14.86|  7.22|  7.43|             31.8| 6.7| 0.971736204576043|\n",
            "|   Conquest|   Carnival| 11|             110.0|     29.74|  9.53| 14.88|            36.99|19.1|0.6404569892473118|\n",
            "|    Destiny|   Carnival| 17|           101.353|     26.42|  8.92| 13.21|            38.36|10.0|0.6752460257380771|\n",
            "+-----------+-----------+---+------------------+----------+------+------+-----------------+----+------------------+\n",
            "only showing top 5 rows\n",
            "\n"
          ]
        }
      ]
    },
    {
      "cell_type": "code",
      "execution_count": 13,
      "metadata": {
        "colab": {
          "base_uri": "https://localhost:8080/"
        },
        "id": "bKUwaTkc83uo",
        "outputId": "d22d6a6f-a05d-4b79-ffd0-173cfb0d9281"
      },
      "outputs": [
        {
          "output_type": "stream",
          "name": "stdout",
          "text": [
            "+------------------+------+\n",
            "|           Tonnage|length|\n",
            "+------------------+------+\n",
            "|30.276999999999997|  5.94|\n",
            "|30.276999999999997|  5.94|\n",
            "|            47.262|  7.22|\n",
            "|             110.0|  9.53|\n",
            "|           101.353|  8.92|\n",
            "+------------------+------+\n",
            "only showing top 5 rows\n",
            "\n"
          ]
        }
      ],
      "source": [
        "data.select(['Tonnage', 'length']).show(5)"
      ]
    },
    {
      "cell_type": "code",
      "source": [
        "data.filter(\n",
        "    (col('Tonnage') > 100) & (col('length').between(6, 9))\n",
        ").show()"
      ],
      "metadata": {
        "colab": {
          "base_uri": "https://localhost:8080/"
        },
        "id": "I3JmDSTl37la",
        "outputId": "80bca047-193a-4529-881f-79a25e5b2c66"
      },
      "execution_count": 14,
      "outputs": [
        {
          "output_type": "stream",
          "name": "stdout",
          "text": [
            "+---------+-----------+---+-------+----------+------+------+-----------------+-----+------------------+\n",
            "|Ship_name|Cruise_line|Age|Tonnage|passengers|length|cabins|passenger_density| Crew|average_cabin_size|\n",
            "+---------+-----------+---+-------+----------+------+------+-----------------+-----+------------------+\n",
            "|  Destiny|   Carnival| 17|101.353|     26.42|  8.92| 13.21|            38.36| 10.0|0.6752460257380771|\n",
            "|  Triumph|   Carnival| 14|101.509|     27.58|  8.93| 13.21|            36.81| 10.0| 0.676003028009084|\n",
            "|  Victory|   Carnival| 13|101.509|     27.58|  8.93| 13.79|            36.81| 11.5|0.6475707034082668|\n",
            "|  Fortuna|      Costa| 10|  105.0|      27.2|   8.9| 13.56|             38.6|10.68|0.6563421828908554|\n",
            "|   Magica|      Costa|  9|  105.0|      27.2|   8.9| 13.56|             38.6|10.68|0.6563421828908554|\n",
            "|  Ventura|        P&O|  5|  115.0|     35.74|   9.0| 15.32|            32.18| 12.2|0.5874673629242819|\n",
            "+---------+-----------+---+-------+----------+------+------+-----------------+-----+------------------+\n",
            "\n"
          ]
        }
      ]
    },
    {
      "cell_type": "code",
      "source": [
        "from pyspark.sql.functions import when\n",
        "\n",
        "data.select('Ship_name', 'length', when(col('length') > 7, 1).otherwise(0).alias('large_length')).show(5)"
      ],
      "metadata": {
        "colab": {
          "base_uri": "https://localhost:8080/"
        },
        "id": "OHYB5AhWM119",
        "outputId": "094672f1-eee1-4cc7-ff18-6e45a0d1965f"
      },
      "execution_count": 15,
      "outputs": [
        {
          "output_type": "stream",
          "name": "stdout",
          "text": [
            "+-----------+------+------------+\n",
            "|  Ship_name|length|large_length|\n",
            "+-----------+------+------------+\n",
            "|    Journey|  5.94|           0|\n",
            "|      Quest|  5.94|           0|\n",
            "|Celebration|  7.22|           1|\n",
            "|   Conquest|  9.53|           1|\n",
            "|    Destiny|  8.92|           1|\n",
            "+-----------+------+------------+\n",
            "only showing top 5 rows\n",
            "\n"
          ]
        }
      ]
    },
    {
      "cell_type": "code",
      "source": [
        "data.filter(col('Ship_name').rlike('^[L|R]')).show(5)"
      ],
      "metadata": {
        "colab": {
          "base_uri": "https://localhost:8080/"
        },
        "id": "4Pyb9979M1yh",
        "outputId": "95f2700a-9c58-4608-dde4-291d4208456f"
      },
      "execution_count": 16,
      "outputs": [
        {
          "output_type": "stream",
          "name": "stdout",
          "text": [
            "+---------+----------------+---+-------+----------+------+------+-----------------+----+------------------+\n",
            "|Ship_name|     Cruise_line|Age|Tonnage|passengers|length|cabins|passenger_density|Crew|average_cabin_size|\n",
            "+---------+----------------+---+-------+----------+------+------+-----------------+----+------------------+\n",
            "|   Legend|        Carnival| 11|   86.0|     21.24|  9.63| 10.62|            40.49| 9.3|0.9067796610169493|\n",
            "| Liberty*|        Carnival|  8|  110.0|     29.74|  9.51| 14.87|            36.99|11.6|0.6395427034297243|\n",
            "|Romantica|           Costa| 20| 53.049|     13.44|  7.22|  6.78|            39.47| 6.0| 1.064896755162242|\n",
            "|Rotterdam|Holland_American| 16| 59.652|      13.2|  7.77|   6.6|            45.19|6.44|1.1772727272727272|\n",
            "|   Ryndam|Holland_American| 19| 55.451|     12.66|  7.19|  6.33|             43.8|5.88|1.1358609794628753|\n",
            "+---------+----------------+---+-------+----------+------+------+-----------------+----+------------------+\n",
            "only showing top 5 rows\n",
            "\n"
          ]
        }
      ]
    },
    {
      "cell_type": "code",
      "source": [
        "data.groupBy(\"Cruise_line\").mean(\"crew\").show()"
      ],
      "metadata": {
        "colab": {
          "base_uri": "https://localhost:8080/"
        },
        "id": "oU5oDF49M1u3",
        "outputId": "1dd05c20-435d-4732-8619-f9a4e967281d"
      },
      "execution_count": 17,
      "outputs": [
        {
          "output_type": "stream",
          "name": "stdout",
          "text": [
            "+-----------------+------------------+\n",
            "|      Cruise_line|         avg(crew)|\n",
            "+-----------------+------------------+\n",
            "|            Costa|               7.7|\n",
            "|              P&O| 8.588333333333333|\n",
            "|           Cunard|10.246666666666668|\n",
            "|Regent_Seven_Seas|             3.146|\n",
            "|              MSC|              7.54|\n",
            "|         Carnival| 10.13590909090909|\n",
            "|          Crystal|             5.905|\n",
            "|           Orient|               3.5|\n",
            "|         Princess|  9.32235294117647|\n",
            "|        Silversea|            2.4725|\n",
            "|         Seabourn|1.6000000000000003|\n",
            "| Holland_American| 6.215000000000002|\n",
            "|         Windstar|1.1866666666666668|\n",
            "|           Disney|              9.45|\n",
            "|        Norwegian| 8.087692307692308|\n",
            "|          Oceania|               4.0|\n",
            "|          Azamara|              3.55|\n",
            "|        Celebrity|             8.072|\n",
            "|             Star| 5.363333333333333|\n",
            "|  Royal_Caribbean|10.016521739130434|\n",
            "+-----------------+------------------+\n",
            "\n"
          ]
        }
      ]
    },
    {
      "cell_type": "code",
      "source": [
        "from pyspark.sql import functions as f\n",
        "\n",
        "data.groupBy('Cruise_line') \\\n",
        "    .agg(\n",
        "        f.min('Tonnage').alias('Min_Tonnage'),\n",
        "        f.max('Tonnage').alias('Max_Tonnage'),\n",
        "        f.avg('Tonnage').alias('Avg_Tonnage')\n",
        "    ).show(truncate=False)"
      ],
      "metadata": {
        "colab": {
          "base_uri": "https://localhost:8080/"
        },
        "id": "kHpYUfuKarVF",
        "outputId": "bdd1d0a1-c1ac-4e2d-bde4-f1ce5cc42745"
      },
      "execution_count": 18,
      "outputs": [
        {
          "output_type": "stream",
          "name": "stdout",
          "text": [
            "+-----------------+------------------+------------------+------------------+\n",
            "|Cruise_line      |Min_Tonnage       |Max_Tonnage       |Avg_Tonnage       |\n",
            "+-----------------+------------------+------------------+------------------+\n",
            "|Costa            |25.0              |112.0             |71.09654545454545 |\n",
            "|P&O              |45.0              |115.0             |77.85883333333334 |\n",
            "|Cunard           |70.327            |151.4             |103.90899999999999|\n",
            "|Regent_Seven_Seas|12.5              |50.0              |32.14             |\n",
            "|MSC              |16.852            |133.5             |63.77225          |\n",
            "|Carnival         |46.052            |110.23899999999999|84.65272727272728 |\n",
            "|Crystal          |51.004            |68.0              |59.501999999999995|\n",
            "|Orient           |22.08             |22.08             |22.08             |\n",
            "|Princess         |30.276999999999997|116.0             |87.53800000000001 |\n",
            "|Silversea        |16.8              |25.0              |20.9              |\n",
            "|Seabourn         |10.0              |10.0              |10.0              |\n",
            "|Holland_American |33.92             |86.0              |60.50121428571428 |\n",
            "|Windstar         |5.35              |14.745            |8.481666666666667 |\n",
            "|Disney           |83.0              |83.338            |83.169            |\n",
            "|Norwegian        |28.0              |93.0              |63.71661538461539 |\n",
            "|Oceania          |30.276999999999997|30.276999999999997|30.276999999999997|\n",
            "|Azamara          |30.276999999999997|30.276999999999997|30.276999999999997|\n",
            "|Celebrity        |2.329             |122.0             |76.1586           |\n",
            "|Star             |3.341             |76.8              |30.77133333333333 |\n",
            "|Royal_Caribbean  |48.563            |220.0             |107.01099999999998|\n",
            "+-----------------+------------------+------------------+------------------+\n",
            "\n"
          ]
        }
      ]
    },
    {
      "cell_type": "code",
      "source": [
        "from matplotlib import pyplot as plt"
      ],
      "metadata": {
        "id": "td6AQenmarRT"
      },
      "execution_count": 19,
      "outputs": []
    },
    {
      "cell_type": "code",
      "source": [],
      "metadata": {
        "id": "M3HdBADeMfio"
      },
      "execution_count": 19,
      "outputs": []
    },
    {
      "cell_type": "code",
      "source": [
        "df_1 = data.groupBy('Cruise_line').agg(\n",
        "    f.min('Tonnage').alias('Min_Tonnage'),\n",
        "    f.max('Tonnage').alias('Max_Tonnage'),\n",
        "    f.avg('Tonnage').alias('Avg_Tonnage'))\n",
        "\n",
        "df_1 = df_1.toPandas()\n",
        "\n",
        "df_group = df_1.groupby('Cruise_line').mean(numeric_only=True).reset_index()\n",
        "\n",
        "df_group.plot(kind='bar', x='Cruise_line', y=['Min_Tonnage', 'Avg_Tonnage', 'Max_Tonnage'],\n",
        "              ylabel='Значення', xlabel='Круїзна лінія')\n",
        "plt.title('Тонаж кораблів,які курсують круїзними лініями')\n",
        "plt.tight_layout()\n",
        "plt.show()"
      ],
      "metadata": {
        "colab": {
          "base_uri": "https://localhost:8080/",
          "height": 487
        },
        "id": "ZSKf-Lt5arNq",
        "outputId": "2e1aa734-5035-4c8c-a24a-18656e3d8d6d"
      },
      "execution_count": 20,
      "outputs": [
        {
          "output_type": "display_data",
          "data": {
            "text/plain": [
              "<Figure size 640x480 with 1 Axes>"
            ],
            "image/png": "[encoded data removed]"
          },
          "metadata": {}
        }
      ]
    },
    {
      "cell_type": "code",
      "source": [
        "df_2 = data.groupBy('Ship_name').agg(\n",
        "        f.avg('Tonnage').alias('Avg_Tonnage')).toPandas()\n",
        "\n",
        "df_2 = df_2.sort_values('Avg_Tonnage', ascending=False).head(10)\n",
        "\n",
        "df_2.plot(kind='barh', x='Ship_name', y='Avg_Tonnage', ylabel='Назва судна',\n",
        "        xlabel='Тонаж',  figsize=(12, 6))\n",
        "\n",
        "plt.title('ТОП 10 суден з найбільшим тонажем')\n",
        "plt.xticks(rotation=45)\n",
        "plt.tight_layout()\n",
        "plt.show()"
      ],
      "metadata": {
        "colab": {
          "base_uri": "https://localhost:8080/",
          "height": 607
        },
        "id": "ngAIjxxUarKb",
        "outputId": "183d93dd-0e55-4c96-a86d-b7abf3fa30d0"
      },
      "execution_count": 21,
      "outputs": [
        {
          "output_type": "display_data",
          "data": {
            "text/plain": [
              "<Figure size 1200x600 with 1 Axes>"
            ],
            "image/png": "[encoded data removed]"
          },
          "metadata": {}
        }
      ]
    },
    {
      "cell_type": "code",
      "source": [
        "df = data.toPandas()\n",
        "\n",
        "df.plot(kind='scatter', x='Tonnage', y='passengers', figsize=(8, 6))\n",
        "plt.title('Кореляція між кількістю пасажирів і тоннажем судна')\n",
        "plt.show()"
      ],
      "metadata": {
        "colab": {
          "base_uri": "https://localhost:8080/",
          "height": 564
        },
        "id": "PmQGaDSAnAhe",
        "outputId": "bf71ce93-e348-4930-fbcf-31d51ef942ac"
      },
      "execution_count": 22,
      "outputs": [
        {
          "output_type": "display_data",
          "data": {
            "text/plain": [
              "<Figure size 800x600 with 1 Axes>"
            ],
            "image/png": "[encoded data removed]"
          },
          "metadata": {}
        }
      ]
    },
    {
      "cell_type": "markdown",
      "source": [
        "Запис/збереження даних у файл"
      ],
      "metadata": {
        "id": "4eHQurzjq426"
      }
    },
    {
      "cell_type": "code",
      "execution_count": null,
      "metadata": {
        "id": "A5IXl4ydMTlh"
      },
      "outputs": [],
      "source": [
        "# CSV\n",
        "data.write.csv('dataset.csv')\n",
        "\n",
        "# JSON\n",
        "data.write.save('dataset.json', format='json')\n",
        "\n",
        "# Parquet\n",
        "data.write.save('dataset.parquet', format='parquet')\n",
        "\n",
        "# Записвибраних даних в різні види файлів\n",
        "\n",
        "# CSV\n",
        "data.select(['data', 'open', 'close', 'adjusted'])\\\n",
        "    .write.csv('dataset.csv')\n",
        "\n",
        "# JSON\n",
        "data.select(['data', 'open', 'close', 'adjusted'])\\\n",
        "    .write.save('dataset.json', format='json')\n",
        "\n",
        "# Parquet\n",
        "data.select(['data', 'open', 'close', 'adjusted'])\\\n",
        "    .write.save('dataset.parquet', format='parquet')"
      ]
    }
  ],
  "metadata": {
    "colab": {
      "provenance": [],
      "include_colab_link": true
    },
    "kernelspec": {
      "display_name": "Python 3 (ipykernel)",
      "language": "python",
      "name": "python3"
    },
    "language_info": {
      "codemirror_mode": {
        "name": "ipython",
        "version": 3
      },
      "file_extension": ".py",
      "mimetype": "text/x-python",
      "name": "python",
      "nbconvert_exporter": "python",
      "pygments_lexer": "ipython3",
      "version": "3.9.2"
    }
  },
  "nbformat": 4,
  "nbformat_minor": 0
}